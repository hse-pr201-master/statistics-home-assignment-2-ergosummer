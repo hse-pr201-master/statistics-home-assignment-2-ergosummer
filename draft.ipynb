{
 "cells": [
  {
   "cell_type": "markdown",
   "id": "7403ae8d",
   "metadata": {},
   "source": [
    "Иван Солоухин"
   ]
  },
  {
   "cell_type": "code",
   "execution_count": 1,
   "id": "03e9521a",
   "metadata": {},
   "outputs": [],
   "source": [
    "import warnings\n",
    "warnings.filterwarnings(\"ignore\")\n",
    "\n",
    "import numpy as np\n",
    "import pandas as pd\n",
    "import scipy.stats as sts\n",
    "\n",
    "import matplotlib.pyplot as plt\n",
    "import seaborn as sns"
   ]
  },
  {
   "cell_type": "code",
   "execution_count": 2,
   "id": "9555563a",
   "metadata": {},
   "outputs": [],
   "source": [
    "# зафиксируем random state для всех последующих случайных функций\n",
    "RS = 1234\n",
    "# и уровень значимости, одинаковый для задач\n",
    "alpha = 0.05"
   ]
  },
  {
   "cell_type": "markdown",
   "id": "81c55a89",
   "metadata": {},
   "source": [
    "### № 4. "
   ]
  },
  {
   "cell_type": "code",
   "execution_count": 3,
   "id": "5309068e",
   "metadata": {},
   "outputs": [],
   "source": [
    "# подготовка данных\n",
    "df = pd.read_excel('https://docs.google.com/spreadsheets/d/e/2PACX-1vR19Hh8Jvb69HcEIfE2m8gH7oen6__tjzqoaTZW0zJ3KwVhc5b5PVERNfFesDAgtA/pub?output=xlsx')\n",
    "df = df[['Last name', 'Экзамен']].copy()"
   ]
  },
  {
   "cell_type": "code",
   "execution_count": 4,
   "id": "35380f5c",
   "metadata": {},
   "outputs": [],
   "source": [
    "df.drop(index=df.loc[df['Экзамен'] == 'неявка'].index, inplace=True)\n",
    "df.dropna(axis=0, inplace=True)"
   ]
  },
  {
   "cell_type": "code",
   "execution_count": 5,
   "id": "159c738f",
   "metadata": {},
   "outputs": [],
   "source": [
    "vowels = 'АЕЁИОУЫЭЮЯ'\n",
    "\n",
    "crunch = np.ones((len(df), 1))\n",
    "crunch[:] = np.nan"
   ]
  },
  {
   "cell_type": "code",
   "execution_count": 6,
   "id": "b3f95cbd",
   "metadata": {},
   "outputs": [
    {
     "data": {
      "text/html": [
       "<div>\n",
       "<style scoped>\n",
       "    .dataframe tbody tr th:only-of-type {\n",
       "        vertical-align: middle;\n",
       "    }\n",
       "\n",
       "    .dataframe tbody tr th {\n",
       "        vertical-align: top;\n",
       "    }\n",
       "\n",
       "    .dataframe thead th {\n",
       "        text-align: right;\n",
       "    }\n",
       "</style>\n",
       "<table border=\"1\" class=\"dataframe\">\n",
       "  <thead>\n",
       "    <tr style=\"text-align: right;\">\n",
       "      <th></th>\n",
       "      <th>Last name</th>\n",
       "      <th>Экзамен</th>\n",
       "      <th>Vowel</th>\n",
       "    </tr>\n",
       "  </thead>\n",
       "  <tbody>\n",
       "    <tr>\n",
       "      <th>327</th>\n",
       "      <td>Сенников</td>\n",
       "      <td>13</td>\n",
       "      <td>0.0</td>\n",
       "    </tr>\n",
       "    <tr>\n",
       "      <th>328</th>\n",
       "      <td>Ся</td>\n",
       "      <td>30</td>\n",
       "      <td>0.0</td>\n",
       "    </tr>\n",
       "    <tr>\n",
       "      <th>329</th>\n",
       "      <td>Сятова</td>\n",
       "      <td>30</td>\n",
       "      <td>0.0</td>\n",
       "    </tr>\n",
       "    <tr>\n",
       "      <th>330</th>\n",
       "      <td>Темиркулов</td>\n",
       "      <td>30</td>\n",
       "      <td>0.0</td>\n",
       "    </tr>\n",
       "    <tr>\n",
       "      <th>331</th>\n",
       "      <td>Эшмеев</td>\n",
       "      <td>13</td>\n",
       "      <td>1.0</td>\n",
       "    </tr>\n",
       "  </tbody>\n",
       "</table>\n",
       "</div>"
      ],
      "text/plain": [
       "      Last name Экзамен  Vowel\n",
       "327    Сенников      13    0.0\n",
       "328          Ся      30    0.0\n",
       "329      Сятова      30    0.0\n",
       "330  Темиркулов      30    0.0\n",
       "331      Эшмеев      13    1.0"
      ]
     },
     "execution_count": 6,
     "metadata": {},
     "output_type": "execute_result"
    }
   ],
   "source": [
    "# создаем колонку: если фамилия начинается с гласной - единица, иначе ноль \n",
    "\n",
    "crunch = np.ones((len(df), 1))\n",
    "crunch[:] = np.nan\n",
    "df['Vowel'] = crunch\n",
    "\n",
    "for i in range(len(df)):\n",
    "    if df.iloc[i, 0][0] in vowels:\n",
    "        df.iloc[i, -1] = 1\n",
    "    else:\n",
    "        df.iloc[i, -1] = 0\n",
    "        \n",
    "df.tail()"
   ]
  },
  {
   "cell_type": "code",
   "execution_count": 117,
   "id": "4af1cb81",
   "metadata": {
    "scrolled": true
   },
   "outputs": [
    {
     "data": {
      "text/plain": [
       "Vowel\n",
       "0.0    158\n",
       "1.0     30\n",
       "Name: count, dtype: int64"
      ]
     },
     "execution_count": 117,
     "metadata": {},
     "output_type": "execute_result"
    }
   ],
   "source": [
    "# размер выборок\n",
    "df.Vowel.value_counts()"
   ]
  },
  {
   "cell_type": "markdown",
   "id": "6af51820",
   "metadata": {},
   "source": [
    "#### 4а"
   ]
  },
  {
   "cell_type": "code",
   "execution_count": 7,
   "id": "025ed66e",
   "metadata": {},
   "outputs": [
    {
     "data": {
      "text/plain": [
       "Ttest_indResult(statistic=0.42784294504977305, pvalue=0.671119924586115)"
      ]
     },
     "execution_count": 7,
     "metadata": {},
     "output_type": "execute_result"
    }
   ],
   "source": [
    "# 4а - реализуем внутренню функцию scipy.stats\n",
    "sts.ttest_ind(df.loc[df.Vowel == 0, 'Экзамен'], \n",
    "              df.loc[df.Vowel == 1, 'Экзамен'], \n",
    "              equal_var=False, \n",
    "              alternative='two-sided')\n",
    "# pvalue > alpha, гипотеза о равенстве матожиданий (результатах экзамена) не отвергается"
   ]
  },
  {
   "cell_type": "markdown",
   "id": "7437812d",
   "metadata": {},
   "source": [
    "#### 4б"
   ]
  },
  {
   "cell_type": "code",
   "execution_count": 8,
   "id": "b5290873",
   "metadata": {},
   "outputs": [
    {
     "name": "stdout",
     "output_type": "stream",
     "text": [
      "1.0148\n",
      "Для уровня значимости 0.05 гипотеза НЕ отвергается\n"
     ]
    }
   ],
   "source": [
    "# 4б\n",
    "np.random.seed(RS)\n",
    "\n",
    "obs_x = pd.to_numeric(df.loc[df.Vowel == 0, 'Экзамен']).to_numpy()\n",
    "obs_y = pd.to_numeric(df.loc[df.Vowel == 1, 'Экзамен']).to_numpy()\n",
    "n_x, n_y = len(obs_x), len(obs_y)\n",
    "\n",
    "mean_diff = np.mean(obs_x)- np.mean(obs_y) # разница выборочных средних\n",
    "\n",
    "inds_x = np.random.choice(np.arange(n_x), (10**4, n_x)) # случайные индексы для генерации бутстрап-выборки\n",
    "inds_y = np.random.choice(np.arange(n_y), (10**4, n_y))\n",
    "mean_x_bs, mean_y_bs = np.mean(obs_x[inds_x], axis=1), np.mean(obs_y[inds_y], axis=1)\n",
    "# выборочные средние бутстрапированных выборок и их разница\n",
    "means_diff_bs = mean_x_bs - mean_y_bs\n",
    "\n",
    "# квантили для доверительных интервалов и p-value\n",
    "q_l, q_r = np.percentile(means_diff_bs, 100*alpha/2), np.percentile(means_diff_bs, 100*(1 - alpha/2))\n",
    "p_value = 2*(np.min([np.mean((mean_diff < means_diff_bs)), \n",
    "                     1 - np.mean(mean_diff >= means_diff_bs)]))\n",
    "\n",
    "print(p_value)\n",
    "# получается слегка больше единицы, чего вообще быть не должно; видимо, дело в численных методах питона\n",
    "if p_value > alpha:\n",
    "    print(f'Для уровня значимости {alpha} гипотеза НЕ отвергается')\n",
    "else: \n",
    "    print(f'Для уровня значимости {alpha} гипотеза отвергается')"
   ]
  },
  {
   "cell_type": "markdown",
   "id": "058b09d5",
   "metadata": {},
   "source": [
    "### № 6"
   ]
  },
  {
   "cell_type": "code",
   "execution_count": 19,
   "id": "341875b0",
   "metadata": {},
   "outputs": [
    {
     "name": "stdout",
     "output_type": "stream",
     "text": [
      "Beta=2.196877121520706, коэффициент корреляции=0.011115389336859618\n"
     ]
    }
   ],
   "source": [
    "# 6а \n",
    "df['len'] = pd.to_numeric(df['Last name'].apply(len)) # новая колонка в датафрейм с длинной фамилии\n",
    "b_score = df['Экзамен'].mean() / df.len.mean() # бета через выборочное среднее (первый начальный момент)\n",
    "corr = np.corrcoef(pd.to_numeric(df['Экзамен']), df['len'])[1, 0]\n",
    "# оценка методом моментов и очень слабая положительная корреляция\n",
    "print(f'Beta={b_score}, коэффициент корреляции={corr}')"
   ]
  },
  {
   "cell_type": "code",
   "execution_count": 32,
   "id": "ea924222",
   "metadata": {},
   "outputs": [
    {
     "name": "stdout",
     "output_type": "stream",
     "text": [
      "0.9950000000000001\n",
      "Для уровня значимости 0.05 гипотеза НЕ отвергается\n"
     ]
    }
   ],
   "source": [
    "# 6б\n",
    "# реализация перестановочного теста и проверка гипотезы beta=0\n",
    "\n",
    "corrcoefs = []\n",
    "for i in range(10**4):\n",
    "    perestanovka = np.random.choice(pd.to_numeric(df['Экзамен']), size=len(df), replace=False)\n",
    "    corr_perestanovka = np.corrcoef(perestanovka, df['len'])[1, 0]\n",
    "    corrcoefs.append(corr_perestanovka)\n",
    "corrcoefs = np.array(corrcoefs)\n",
    "q_l, q_r = np.percentile(corrcoefs, 100*alpha/2), np.percentile(corrcoefs, 100*(1 - alpha/2))\n",
    "p_value = 2 * min(1 - (corrcoefs < 0).sum()/len(corrcoefs),\n",
    "                  (corrcoefs < 0).sum()/len(corrcoefs))\n",
    "print(p_value)\n",
    "if p_value > alpha:\n",
    "    print(f'Для уровня значимости {alpha} гипотеза НЕ отвергается')\n",
    "else: \n",
    "    print(f'Для уровня значимости {alpha} гипотеза отвергается')"
   ]
  },
  {
   "cell_type": "markdown",
   "id": "e26286b2",
   "metadata": {},
   "source": [
    "#### № 8\n",
    "https://arxiv.org/pdf/2106.00871.pdf \\\n",
    "Доказательство главной теоремы всего матстата, которое можно понять после вышкинского курса математического анализа и ТВиМС. \\\n",
    "Помогло бы разобраться с тем, откуда берется ЦПТ, если бы я свободно ориентировался в уже изученном материале. Поскольку условие не очень выполняется, помогло разобраться с планами на это лето. "
   ]
  }
 ],
 "metadata": {
  "kernelspec": {
   "display_name": "Python 3 (ipykernel)",
   "language": "python",
   "name": "python3"
  },
  "language_info": {
   "codemirror_mode": {
    "name": "ipython",
    "version": 3
   },
   "file_extension": ".py",
   "mimetype": "text/x-python",
   "name": "python",
   "nbconvert_exporter": "python",
   "pygments_lexer": "ipython3",
   "version": "3.9.7"
  }
 },
 "nbformat": 4,
 "nbformat_minor": 5
}
